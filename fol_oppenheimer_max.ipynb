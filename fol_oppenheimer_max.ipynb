{
  "nbformat": 4,
  "nbformat_minor": 0,
  "metadata": {
    "colab": {
      "provenance": [],
      "authorship_tag": "ABX9TyNLf8Wunv2vebrKYlimLLHP",
      "include_colab_link": true
    },
    "kernelspec": {
      "name": "python3",
      "display_name": "Python 3"
    },
    "language_info": {
      "name": "python"
    }
  },
  "cells": [
    {
      "cell_type": "markdown",
      "metadata": {
        "id": "view-in-github",
        "colab_type": "text"
      },
      "source": [
        "<a href=\"https://colab.research.google.com/github/Luisdauwu/Dockerfile/blob/main/fol_oppenheimer_max.ipynb\" target=\"_parent\"><img src=\"https://colab.research.google.com/assets/colab-badge.svg\" alt=\"Open In Colab\"/></a>"
      ]
    },
    {
      "cell_type": "code",
      "execution_count": null,
      "metadata": {
        "id": "LpufKnphzK9c"
      },
      "outputs": [],
      "source": [
        "from pyDatalog import pyDatalog\n",
        "pyDatalog.clear()"
      ]
    },
    {
      "cell_type": "code",
      "source": [
        "#Definir relaciones y términos\n",
        "pyDatalog.create_terms('pelicula_disponible, pertenece_genero, dirigida_por, buscar_pelicula, X')"
      ],
      "metadata": {
        "id": "jkmXcfjwzPC2"
      },
      "execution_count": null,
      "outputs": []
    },
    {
      "cell_type": "code",
      "source": [
        "#Base de conocimiento - Películas disponibles en MAX\n",
        "+pelicula_disponible('Oppenheimer')\n",
        "+pelicula_disponible('Interestelar')\n",
        "+pelicula_disponible('Dunkerque')"
      ],
      "metadata": {
        "id": "QSI1Gy1kzSDL"
      },
      "execution_count": null,
      "outputs": []
    },
    {
      "cell_type": "code",
      "source": [
        "#Relación de género\n",
        "+pertenece_genero('Oppenheimer', 'Historia')\n",
        "+pertenece_genero('Oppenheimer', 'Drama')\n",
        "+pertenece_genero('Interestelar', 'Ciencia Ficción')"
      ],
      "metadata": {
        "id": "C23aTTJIzUIQ"
      },
      "execution_count": null,
      "outputs": []
    },
    {
      "cell_type": "code",
      "source": [
        "#Relación con el director\n",
        "+dirigida_por('Oppenheimer', 'Christopher Nolan')\n",
        "+dirigida_por('Interestelar', 'Christopher Nolan')\n",
        "+dirigida_por('Dunkerque', 'Christopher Nolan')"
      ],
      "metadata": {
        "id": "Ue3c1OPQzYt4"
      },
      "execution_count": null,
      "outputs": []
    },
    {
      "cell_type": "code",
      "source": [
        "#Reglas para buscar una película\n",
        "buscar_pelicula(X) <= pelicula_disponible(X)\n",
        "buscar_pelicula(X) <= pertenece_genero(X, 'Historia')\n",
        "buscar_pelicula(X) <= dirigida_por(X, 'Christopher Nolan')"
      ],
      "metadata": {
        "id": "nJ2aZPvTzats"
      },
      "execution_count": null,
      "outputs": []
    },
    {
      "cell_type": "code",
      "source": [
        "#Consultas\n",
        "print(buscar_pelicula(X))  # ¿Qué películas se pueden encontrar?\n",
        "print(pelicula_disponible('Oppenheimer'))  # ¿Está Oppenheimer en MAX?\n",
        "print(pertenece_genero('Oppenheimer', 'Historia'))  # ¿Es Oppenheimer histórica?\n",
        "print(dirigida_por(X, 'Christopher Nolan'))  # ¿Qué películas dirigió Nolan?"
      ],
      "metadata": {
        "id": "OfKuvCIvzc9A"
      },
      "execution_count": null,
      "outputs": []
    }
  ]
}